{
  "cells": [
    {
      "cell_type": "markdown",
      "metadata": {},
      "source": [
        "**Deleting this file will redeploy the latest original file.**"
      ]
    },
    {
      "cell_type": "code",
      "execution_count": null,
      "metadata": {
        "trusted": true
      },
      "outputs": [],
      "source": [
        "try:\n",
        "    import micropip\n",
        "except ModuleNotFoundError:\n",
        "    # ! pip install boxsdk boxfs requests # jupyterlab-box-drive # stable\n",
        "    # ! pip install https://tanaga9.github.io/jupyterlab-box-drive/jupyterlab_box_drive-0.2.0-py3-none-any.whl # unstable\n",
        "    pass\n",
        "else:\n",
        "    await micropip.install([\"pyodide-http\", \"boxsdk\", \"boxfs\", \"requests\", # \"jupyterlab_box_drive\"]) # stable\n",
        "        \"https://tanaga9.github.io/jupyterlab-box-drive/jupyterlab_box_drive-0.2.0-py3-none-any.whl\" # unstable\n",
        "        # \"http://127.0.0.1:8888/dist/jupyterlab_box_drive-0.2.0-py3-none-any.whl\" # local docker run\n",
        "    ])\n",
        "    import pyodide_http\n",
        "    pyodide_http.patch_all()"
      ]
    },
    {
      "cell_type": "code",
      "execution_count": null,
      "metadata": {
        "trusted": true
      },
      "outputs": [],
      "source": [
        "from jupyterlab_box_drive import JupyterlabBoxDrive\n",
        "try: del need2clear\n",
        "except NameError:\n",
        "    jlboxd = await JupyterlabBoxDrive().inputs()\n",
        "    need2clear = True"
      ]
    },
    {
      "cell_type": "markdown",
      "metadata": {},
      "source": [
        "[boxsdk](https://pypi.org/project/boxsdk/)\n",
        "--------------"
      ]
    },
    {
      "cell_type": "code",
      "execution_count": null,
      "metadata": {
        "trusted": true
      },
      "outputs": [],
      "source": [
        "import boxsdk"
      ]
    },
    {
      "cell_type": "code",
      "execution_count": null,
      "metadata": {
        "trusted": true
      },
      "outputs": [],
      "source": [
        "oauth = boxsdk.OAuth2(**jlboxd.oauth)"
      ]
    },
    {
      "cell_type": "code",
      "execution_count": null,
      "metadata": {
        "trusted": true
      },
      "outputs": [],
      "source": [
        "client = boxsdk.Client(oauth)"
      ]
    },
    {
      "cell_type": "code",
      "execution_count": null,
      "metadata": {
        "trusted": true
      },
      "outputs": [],
      "source": [
        "client.user().get()"
      ]
    },
    {
      "cell_type": "markdown",
      "metadata": {},
      "source": [
        "[boxfs](https://pypi.org/project/boxfs/)\n",
        "---------------------------"
      ]
    },
    {
      "cell_type": "code",
      "execution_count": null,
      "metadata": {},
      "outputs": [],
      "source": [
        "from boxfs import boxfs"
      ]
    },
    {
      "cell_type": "code",
      "execution_count": null,
      "metadata": {
        "trusted": true
      },
      "outputs": [],
      "source": [
        "fs = boxfs.BoxFileSystem(oauth=oauth)"
      ]
    },
    {
      "cell_type": "code",
      "execution_count": null,
      "metadata": {
        "trusted": true
      },
      "outputs": [],
      "source": [
        "fs.ls('/')[:2]"
      ]
    },
    {
      "cell_type": "markdown",
      "metadata": {},
      "source": [
        "[requests](https://pypi.org/project/requests/) to [Box API](https://developer.box.com/reference/)\n",
        "-----------"
      ]
    },
    {
      "cell_type": "code",
      "execution_count": null,
      "metadata": {},
      "outputs": [],
      "source": [
        "import requests"
      ]
    },
    {
      "cell_type": "code",
      "execution_count": null,
      "metadata": {},
      "outputs": [],
      "source": [
        "requests.get(\n",
        "    f'https://api.box.com/2.0/users/me',\n",
        "    headers={'Authorization': f'Bearer {jlboxd.oauth.access_token}'}\n",
        ").json()"
      ]
    }
  ],
  "metadata": {
    "kernelspec": {
      "display_name": "Python (Pyodide)",
      "language": "python",
      "name": "python"
    },
    "language_info": {
      "codemirror_mode": {
        "name": "python",
        "version": 3
      },
      "file_extension": ".py",
      "mimetype": "text/x-python",
      "name": "python",
      "nbconvert_exporter": "python",
      "pygments_lexer": "ipython3",
      "version": "3.8"
    }
  },
  "nbformat": 4,
  "nbformat_minor": 4
}
