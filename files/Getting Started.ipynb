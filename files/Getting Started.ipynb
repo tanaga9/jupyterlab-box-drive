{
  "cells": [
    {
      "cell_type": "code",
      "execution_count": null,
      "metadata": {
        "trusted": true
      },
      "outputs": [],
      "source": [
        "try:\n",
        "    import micropip\n",
        "except ModuleNotFoundError:\n",
        "    # ! pip install boxsdk boxfs\n",
        "    pass\n",
        "else:\n",
        "    await micropip.install([\"pyodide-http\", \"boxsdk\", \"boxfs\", # \"jupyterlab_box_drive\"])\n",
        "        \"https://tanaga9.github.io/jupyterlab-box-drive/jupyterlab_box_drive-0.1.4-py3-none-any.whl\"\n",
        "    ])\n",
        "    import pyodide_http\n",
        "    pyodide_http.patch_all()"
      ]
    },
    {
      "cell_type": "code",
      "execution_count": null,
      "metadata": {
        "trusted": true
      },
      "outputs": [],
      "source": [
        "import jupyterlab_box_drive as boxd\n",
        "try: del need2clear\n",
        "except NameError:\n",
        "    boxd_in = await boxd.input()\n",
        "    need2clear = True"
      ]
    },
    {
      "cell_type": "code",
      "execution_count": null,
      "metadata": {
        "trusted": true
      },
      "outputs": [],
      "source": [
        "import boxsdk\n",
        "from boxfs import boxfs"
      ]
    },
    {
      "cell_type": "code",
      "execution_count": null,
      "metadata": {
        "trusted": true
      },
      "outputs": [],
      "source": [
        "oauth = boxsdk.OAuth2(**boxd_in.oauth)"
      ]
    },
    {
      "cell_type": "code",
      "execution_count": null,
      "metadata": {
        "trusted": true
      },
      "outputs": [],
      "source": [
        "client = boxsdk.Client(oauth)"
      ]
    },
    {
      "cell_type": "code",
      "execution_count": null,
      "metadata": {
        "trusted": true
      },
      "outputs": [],
      "source": [
        "client.user().get()"
      ]
    },
    {
      "cell_type": "code",
      "execution_count": null,
      "metadata": {
        "trusted": true
      },
      "outputs": [],
      "source": [
        "fs = boxfs.BoxFileSystem(oauth=oauth)"
      ]
    },
    {
      "cell_type": "code",
      "execution_count": null,
      "metadata": {
        "trusted": true
      },
      "outputs": [],
      "source": [
        "fs.ls('/')"
      ]
    }
  ],
  "metadata": {
    "kernelspec": {
      "display_name": "Python (Pyodide)",
      "language": "python",
      "name": "python"
    },
    "language_info": {
      "codemirror_mode": {
        "name": "python",
        "version": 3
      },
      "file_extension": ".py",
      "mimetype": "text/x-python",
      "name": "python",
      "nbconvert_exporter": "python",
      "pygments_lexer": "ipython3",
      "version": "3.8"
    }
  },
  "nbformat": 4,
  "nbformat_minor": 4
}
